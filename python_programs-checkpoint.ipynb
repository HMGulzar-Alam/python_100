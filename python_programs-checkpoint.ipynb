{
 "cells": [
  {
   "cell_type": "code",
   "execution_count": 6,
   "id": "24f73c28",
   "metadata": {},
   "outputs": [
    {
     "name": "stdout",
     "output_type": "stream",
     "text": [
      "plz enter 1st number2\n",
      "plz enter 2nd number3\n",
      "plz enter 3rd number4\n",
      "largest number is 4\n"
     ]
    }
   ],
   "source": [
    "# find largest number amongst 3 numbers\n",
    "# a = input(\"plze enter 1st number\")\n",
    "# b = input(\"plz enter 2nd number\")\n",
    "# c = input(\"plz enter 3rd number\")\n",
    "\n",
    "# max = a\n",
    "# if max < b:\n",
    "#     max = b\n",
    "# if max < c:\n",
    "#     max = c\n",
    "# print(\"The largest number is\",max)    \n",
    "\n",
    "a = int(input(\"plz enter 1st number\"))\n",
    "b = int(input(\"plz enter 2nd number\"))\n",
    "c = int(input(\"plz enter 3rd number\"))\n",
    "\n",
    "max = a\n",
    "if max<b:\n",
    "    max = b\n",
    "if max<c:\n",
    "    max = c\n",
    "print(\"largest number is\",max)    "
   ]
  },
  {
   "cell_type": "code",
   "execution_count": 8,
   "id": "15bcab4f",
   "metadata": {},
   "outputs": [
    {
     "name": "stdout",
     "output_type": "stream",
     "text": [
      "plz enter celcius temp67\n",
      "152.60000000000002\n"
     ]
    }
   ],
   "source": [
    "# celcius to fahreinhite\n",
    "# temp = float(input(\"plz enter celcius temperature\"))\n",
    "# fahren = (temp*1.8)+32\n",
    "# print(fahren)\n",
    "\n",
    "temp = float(input(\"plz enter celcius temp\"))\n",
    "fahren = (temp*1.8)+32\n",
    "print(fahren)"
   ]
  },
  {
   "cell_type": "code",
   "execution_count": 10,
   "id": "81bad7c7",
   "metadata": {},
   "outputs": [
    {
     "name": "stdout",
     "output_type": "stream",
     "text": [
      "plz enter 1st number for a: 1\n",
      "plz enter 2nd number for b: 2\n",
      "value of a is: 2\n",
      "value of b is: 1\n"
     ]
    }
   ],
   "source": [
    "# swap two numbers\n",
    "# a = int(input(\"plz enter 1st number\"))\n",
    "# b = int(input(\"plz enter 2nd number\"))\n",
    "\n",
    "# temp = a\n",
    "# a = b\n",
    "# b = temp\n",
    "\n",
    "# print(\"The value of a is :\", a)\n",
    "# print(\"The value of b is :\", b)\n",
    "\n",
    "a = int(input('plz enter 1st number for a: '))\n",
    "b = int(input('plz enter 2nd number for b: '))\n",
    "\n",
    "a,b = b,a\n",
    "print(\"value of a is:\", a)\n",
    "print(\"value of b is:\", b)\n"
   ]
  },
  {
   "cell_type": "code",
   "execution_count": 13,
   "id": "bdd14744",
   "metadata": {},
   "outputs": [
    {
     "name": "stdout",
     "output_type": "stream",
     "text": [
      "plz enter number5\n",
      "odd\n"
     ]
    }
   ],
   "source": [
    "# even/odd \n",
    "# a = int(input(\"plz enter number\"))\n",
    "\n",
    "# if a%2 == 0:\n",
    "#     print(\"Even\")\n",
    "# else:\n",
    "#     print(\"odd\")\n",
    "\n",
    "a = int(input(\"plz enter number\"))\n",
    "\n",
    "if b % 2 == 0:\n",
    "    print(\"Even\")\n",
    "else:\n",
    "    print(\"odd\")"
   ]
  },
  {
   "cell_type": "code",
   "execution_count": 14,
   "id": "1b436b76",
   "metadata": {},
   "outputs": [
    {
     "name": "stdout",
     "output_type": "stream",
     "text": [
      "plz enter number for finding leap year5\n",
      "Not leap year\n"
     ]
    }
   ],
   "source": [
    "# leap year\n",
    "# a = int(input(\"plz enter year for finding leap year\"))\n",
    "# if a%4 == 0:\n",
    "#     print(\"leap year\")\n",
    "# else:\n",
    "#     print(\"not leap year\")\n",
    "\n",
    "a = int(input(\"plz enter number for finding leap year\"))\n",
    "if a%4 == 0:\n",
    "    print(\"Leap year\")\n",
    "else:\n",
    "    print(\"Not leap year\")"
   ]
  },
  {
   "cell_type": "code",
   "execution_count": 15,
   "id": "35235171",
   "metadata": {},
   "outputs": [
    {
     "name": "stdout",
     "output_type": "stream",
     "text": [
      "plz enter x1: 3\n",
      "plz enter x1: 4\n",
      "plz enter x1: 5\n",
      "plz enter x1: 2\n",
      "5.0\n"
     ]
    }
   ],
   "source": [
    "# eucledian distance\n",
    "# x1 = float(input(\"plz enter x1: \"))\n",
    "# x2 = float(input(\"plz enter x2: \"))\n",
    "# y1 = float(input(\"plz enter y1: \"))\n",
    "# y2 = float(input(\"plz enter y2: \"))\n",
    "\n",
    "# d = ((x2 - x1)**2 + (y2 - y1)**2) * 0.5\n",
    "# print(d)\n",
    "\n",
    "x1 = float(input(\"plz enter x1: \"))\n",
    "x2 = float(input(\"plz enter x1: \"))\n",
    "y1 = float(input(\"plz enter x1: \"))\n",
    "y2 = float(input(\"plz enter x1: \"))\n",
    "\n",
    "d = ((x2 - x1)**2 + (y2 - y1)**2) * 0.5\n",
    "print(d)"
   ]
  },
  {
   "cell_type": "code",
   "execution_count": 17,
   "id": "e89c4944",
   "metadata": {},
   "outputs": [
    {
     "name": "stdout",
     "output_type": "stream",
     "text": [
      "plz enetr 1st angle: 50\n",
      "plz enter 2nd angle50\n",
      "plz enter 3rd angle80\n",
      "possible\n"
     ]
    }
   ],
   "source": [
    "# write program to make triangle\n",
    "# a = int(input(\"Enter your 1st angle: \"))\n",
    "# b = int(input(\"Enter your 2nd angle: \"))\n",
    "# c = int(input(\"Enter your 3rd angle: \"))\n",
    "\n",
    "# if a + b + c == 180 and a!=0 and b!=0 and c!=0:\n",
    "#     print(\"possible\")\n",
    "# else:\n",
    "#     print(\"Not possible\")\n",
    "    \n",
    "a = int(input(\"plz enetr 1st angle: \"))\n",
    "b = int(input(\"plz enter 2nd angle\"))\n",
    "c = int(input(\"plz enter 3rd angle\"))\n",
    "\n",
    "if a + b + c == 180 and a!=0 and b != 0 and c != 0:\n",
    "    print(\"possible\")\n",
    "else:\n",
    "    print(\"not possible\")"
   ]
  },
  {
   "cell_type": "code",
   "execution_count": 18,
   "id": "db11a2b3",
   "metadata": {},
   "outputs": [
    {
     "name": "stdout",
     "output_type": "stream",
     "text": [
      "plz enter your cost price30\n",
      "plz enter your selling price32\n",
      "profit 2.0\n"
     ]
    }
   ],
   "source": [
    "# profit/loss program\n",
    "# cp = float(input(\"plz enter your cost price: \"))\n",
    "# sp = float(input(\"plz enter your selling price: \"))\n",
    "\n",
    "# if sp > cp:\n",
    "#     amount = sp - cp\n",
    "#     print(\"Profit: \", amount)\n",
    "# else:\n",
    "#     amount = cp - sp\n",
    "#     print(\"lost: \", amount)\n",
    "\n",
    "cp= float(input(\"plz enter your cost price\"))\n",
    "sp = float(input(\"plz enter your selling price\"))\n",
    "\n",
    "if sp > cp :\n",
    "    amount = sp - cp\n",
    "    print(\"profit\", amount)\n",
    "else:\n",
    "    amount = cp - sp\n",
    "    print(\"loss\", amount)"
   ]
  },
  {
   "cell_type": "code",
   "execution_count": 23,
   "id": "b0f603ab",
   "metadata": {},
   "outputs": [
    {
     "name": "stdout",
     "output_type": "stream",
     "text": [
      "plz enter your number12\n",
      "12 yes number is divisible by 3 & 6\n"
     ]
    }
   ],
   "source": [
    "# given number divisible by 3 & 6\n",
    "# def div():\n",
    "#     num = int(input(\"plz enter your number\"))\n",
    "\n",
    "#     if num%3==0 and num%6==0:\n",
    "#         print(num, \"yes number is divisible by 3 & 6 \")\n",
    "#     else:\n",
    "#         print(num,\"Not divisible\")\n",
    "        \n",
    "#         return num\n",
    "\n",
    "# a = div()\n",
    "# a\n",
    "\n",
    "\n",
    "def div():\n",
    "    num = int(input(\"plz enter your number\"))\n",
    "    \n",
    "    if num%3 == 0 and num %6 == 0:\n",
    "        print(num,\"yes number is divisible by 3 & 6\")\n",
    "    else:\n",
    "        print(num,\"Not divisible\")\n",
    "\n",
    "a = div()\n",
    "a\n",
    "        "
   ]
  },
  {
   "cell_type": "code",
   "execution_count": 35,
   "id": "e3c1d74c",
   "metadata": {},
   "outputs": [
    {
     "name": "stdout",
     "output_type": "stream",
     "text": [
      "Enter temperature in celcius12\n",
      "Enter Humidity percentage80\n",
      "Cold\n"
     ]
    }
   ],
   "source": [
    "# Determine weather type\n",
    "temp = int(input(\"Enter temperature in celcius\"))\n",
    "humid = int(input(\"Enter Humidity percentage\"))\n",
    "\n",
    "if temp >=30 and humid >=90:\n",
    "    print(\"Hot and Humidity\")\n",
    "elif temp >=30 and humid < 90:\n",
    "    print(\"Hot\")\n",
    "elif temp < 30 and humid >= 90:\n",
    "    print(\"cold and humid\")\n",
    "else:\n",
    "    print(\"Cold\")"
   ]
  },
  {
   "cell_type": "code",
   "execution_count": 4,
   "id": "671194c9",
   "metadata": {},
   "outputs": [
    {
     "name": "stdout",
     "output_type": "stream",
     "text": [
      "\n",
      "Hi, How may i can help you!\n",
      "1. convert cm to inches\n",
      "2. convert km to miles\n",
      "3. convert usd to pkr\n",
      "4. exit\n",
      "1\n",
      "plz enter cm100\n",
      "Your value in inches is: 39.4\n"
     ]
    }
   ],
   "source": [
    "# menu driven program\n",
    "# user_input = input(\n",
    "# '''\n",
    "# Hi, How may i can help you!\n",
    "# 1. convert cm to inches\n",
    "# 2. convert km to miles\n",
    "# 3. convert usd to pkr\n",
    "# 4. exit\n",
    "# ''')\n",
    "\n",
    "# if user_input == \"1\":\n",
    "#     cm = input(\"plz enter cm: \")\n",
    "#     inches = float(cm) * float(0.394)\n",
    "#     print(\"Your value in inches is:\",inches)\n",
    "\n",
    "\n",
    "user_input = (\n",
    "'''\n",
    "Hi, How may i help you!\n",
    "1. Convert cm to inches\n",
    "2. Convert PKR to Dollar\n",
    "''')\n",
    "\n",
    "if user_input == 1:\n",
    "    inches = float(cm) * float()\n",
    "    print(inches)\n",
    "    "
   ]
  },
  {
   "cell_type": "code",
   "execution_count": 1,
   "id": "50857759",
   "metadata": {},
   "outputs": [
    {
     "name": "stdout",
     "output_type": "stream",
     "text": [
      "Hello world\n"
     ]
    }
   ],
   "source": [
    "print(\"Hello world\")"
   ]
  },
  {
   "cell_type": "code",
   "execution_count": 5,
   "id": "09005320",
   "metadata": {},
   "outputs": [
    {
     "name": "stdout",
     "output_type": "stream",
     "text": [
      "\n",
      "How can i help you!\n",
      "plz select one to find capitals\n",
      "1. Pakistan \n",
      "2. India\n",
      "3. exit\n",
      "2\n",
      "2\n",
      "Delhi\n"
     ]
    }
   ],
   "source": [
    "user_input = input(\n",
    "'''\n",
    "How can i help you!\n",
    "plz select one to find capitals\n",
    "1. Pakistan \n",
    "2. India\n",
    "3. exit\n",
    "''')\n",
    "print(user_input)\n",
    "\n",
    "if user_input == \"1\":\n",
    "    print(\"Islamabad\")\n",
    "    break\n",
    "elif user_input == \"2\":\n",
    "    print(\"Delhi\")\n",
    "else:\n",
    "    exit()"
   ]
  },
  {
   "cell_type": "code",
   "execution_count": null,
   "id": "c0fa8fe3",
   "metadata": {},
   "outputs": [],
   "source": []
  }
 ],
 "metadata": {
  "kernelspec": {
   "display_name": "Python 3 (ipykernel)",
   "language": "python",
   "name": "python3"
  },
  "language_info": {
   "codemirror_mode": {
    "name": "ipython",
    "version": 3
   },
   "file_extension": ".py",
   "mimetype": "text/x-python",
   "name": "python",
   "nbconvert_exporter": "python",
   "pygments_lexer": "ipython3",
   "version": "3.10.9"
  }
 },
 "nbformat": 4,
 "nbformat_minor": 5
}
